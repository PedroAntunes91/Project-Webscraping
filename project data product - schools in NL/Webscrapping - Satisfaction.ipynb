{
 "cells": [
  {
   "cell_type": "code",
   "execution_count": 3,
   "id": "79ef76ac",
   "metadata": {},
   "outputs": [],
   "source": [
    "import time\n",
    "\n",
    "# getpass - to input our password without showing it in the notebook\n",
    "from getpass import getpass\n",
    "\n",
    "# Juicy stuff - these are the Classes we will use for interaction with a webpage:\n",
    "from selenium import webdriver\n",
    "from selenium.webdriver.common.keys import Keys\n",
    "from selenium.webdriver.chrome.service import Service\n",
    "from selenium.webdriver.common.by import By\n",
    "from webdriver_manager.chrome import ChromeDriverManager\n",
    "from selenium.common import NoSuchElementException, ElementClickInterceptedException\n",
    "\n",
    "# libraries for interacting with the operating system (OS)\n",
    "import pathlib\n",
    "import os\n",
    "from os.path import join\n",
    "\n",
    "import pandas as pd\n",
    "import random\n",
    "import re\n",
    "from bs4 import BeautifulSoup\n",
    "import re\n",
    "\n",
    "import warnings\n",
    "warnings.filterwarnings('ignore')\n",
    "\n",
    "import numpy as np\n"
   ]
  },
  {
   "cell_type": "code",
   "execution_count": 4,
   "id": "dc793ad5",
   "metadata": {},
   "outputs": [],
   "source": [
    "driver = webdriver.Chrome(service=Service(ChromeDriverManager().install()))"
   ]
  },
  {
   "cell_type": "code",
   "execution_count": 5,
   "id": "ed941b80",
   "metadata": {},
   "outputs": [],
   "source": [
    "\n",
    "#url + 'tevredenheid/'"
   ]
  },
  {
   "cell_type": "code",
   "execution_count": 6,
   "id": "c66261d7",
   "metadata": {},
   "outputs": [],
   "source": [
    "html = driver.page_source\n",
    "soup = BeautifulSoup(html)"
   ]
  },
  {
   "cell_type": "code",
   "execution_count": 30,
   "id": "1a7ca698",
   "metadata": {},
   "outputs": [],
   "source": [
    "def get_satisfaction(url):\n",
    "    driver.get(url+'tevredenheid/')\n",
    "\n",
    "    #get all elements in the class\n",
    "    elements = soup.findAll('dl', class_ = 'tabs-tabpanel')\n",
    "\n",
    "    #get students satisfaction\n",
    "    students_satisfaction_list = elements[0].text.split()\n",
    "    school_st_satisfaction = students_satisfaction_list[1]\n",
    "    other_schools_st_satisfaction = students_satisfaction_list[4]\n",
    "\n",
    "    #get parents satisfaction\n",
    "    parents_satisfaction_list = elements[1].text.split()\n",
    "    school_pa_satisfaction = parents_satisfaction_list[1]\n",
    "    other_schools_pa_satisfaction = parents_satisfaction_list[4]\n",
    "\n",
    "    #print info\n",
    "    '''print(school_st_satisfaction)\n",
    "    print(other_schools_st_satisfaction)\n",
    "    print(school_pa_satisfaction)\n",
    "    print(other_schools_pa_satisfaction)'''\n",
    "    \n",
    "    satisfaction_dict = {'students_satisfation':school_st_satisfaction, 'similar_schools_students_satisfaction':school_st_satisfaction, 'parents_satisfaction':school_pa_satisfaction, 'similar_schools_parents_satisfaction':other_schools_pa_satisfaction}\n",
    "    return satisfaction_dict"
   ]
  },
  {
   "cell_type": "code",
   "execution_count": 31,
   "id": "87e43933",
   "metadata": {},
   "outputs": [
    {
     "data": {
      "text/plain": [
       "{'students_satisfation': '8,1',\n",
       " 'similar_schools_students_satisfaction': '8,1',\n",
       " 'parents_satisfaction': '7,3',\n",
       " 'similar_schools_parents_satisfaction': '7,9'}"
      ]
     },
     "execution_count": 31,
     "metadata": {},
     "output_type": "execute_result"
    }
   ],
   "source": [
    "sat = get_satisfaction('https://scholenopdekaart.nl/basisscholen/aadorp/11785/basisschool-de-tweeklank/')\n",
    "sat"
   ]
  },
  {
   "cell_type": "code",
   "execution_count": null,
   "id": "6ab24740",
   "metadata": {},
   "outputs": [],
   "source": []
  }
 ],
 "metadata": {
  "kernelspec": {
   "display_name": "Python 3 (ipykernel)",
   "language": "python",
   "name": "python3"
  },
  "language_info": {
   "codemirror_mode": {
    "name": "ipython",
    "version": 3
   },
   "file_extension": ".py",
   "mimetype": "text/x-python",
   "name": "python",
   "nbconvert_exporter": "python",
   "pygments_lexer": "ipython3",
   "version": "3.10.9"
  }
 },
 "nbformat": 4,
 "nbformat_minor": 5
}

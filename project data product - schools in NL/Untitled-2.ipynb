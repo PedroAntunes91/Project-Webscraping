{
 "cells": [
  {
   "cell_type": "code",
   "execution_count": 11,
   "metadata": {},
   "outputs": [],
   "source": [
    "import time\n",
    "from getpass import getpass\n",
    "from selenium import webdriver\n",
    "from selenium.webdriver.common.keys import Keys\n",
    "from selenium.webdriver.chrome.service import Service\n",
    "from selenium.webdriver.common.by import By\n",
    "from webdriver_manager.chrome import ChromeDriverManager\n",
    "from selenium.common import NoSuchElementException, ElementClickInterceptedException\n",
    "import pathlib\n",
    "import os\n",
    "from os.path import join\n",
    "import pandas as pd\n",
    "import random\n",
    "import re\n",
    "from bs4 import BeautifulSoup\n",
    "import warnings\n",
    "warnings.filterwarnings('ignore')"
   ]
  },
  {
   "cell_type": "code",
   "execution_count": 36,
   "metadata": {},
   "outputs": [],
   "source": [
    "driver = webdriver.Chrome(service=Service(ChromeDriverManager().install()))"
   ]
  },
  {
   "cell_type": "code",
   "execution_count": 37,
   "metadata": {},
   "outputs": [],
   "source": [
    "driver.get('https://scholenopdekaart.nl/basisscholen/pernis-rotterdam/23496/christelijke-basisschool-het-waterschip/resultaten/')"
   ]
  },
  {
   "cell_type": "code",
   "execution_count": 38,
   "metadata": {},
   "outputs": [
    {
     "data": {
      "text/plain": [
       "[<g aria-hidden=\"false\" aria-label=\"deze school, reeks 1 van 4. Reeks met 1 staaf.\" class=\"highcharts-series highcharts-series-0 highcharts-bar-series highcharts-color-0 highcharts-tracker\" clip-path=\"url(#highcharts-8khkydm-3-)\" data-z-index=\"0.1\" tabindex=\"-1\" transform=\"translate(628,97) rotate(90) scale(-1,1) scale(1 1)\"><rect aria-label=\"1. 0, 92,5. deze school.\" class=\"highcharts-point highcharts-color-0\" height=\"572\" role=\"img\" tabindex=\"-1\" width=\"16\" x=\"48.5\" y=\"46.5\"></rect></g>,\n",
       " <g aria-hidden=\"false\" aria-label=\"deze school, reeks 1 van 4. Reeks met 1 staaf.\" class=\"highcharts-series highcharts-series-0 highcharts-bar-series highcharts-color-0 highcharts-tracker\" clip-path=\"url(#highcharts-8khkydm-12-)\" data-z-index=\"0.1\" tabindex=\"-1\" transform=\"translate(628,97) rotate(90) scale(-1,1) scale(1 1)\"><rect aria-label=\"1. 0, 49,6. deze school.\" class=\"highcharts-point highcharts-color-0\" height=\"307\" role=\"img\" tabindex=\"-1\" width=\"16\" x=\"48.5\" y=\"311.5\"></rect></g>,\n",
       " <g aria-hidden=\"false\" aria-label=\"deze school, reeks 1 van 1 met 9 staven.\" class=\"highcharts-series highcharts-series-0 highcharts-bar-series highcharts-color-0 highcharts-tracker\" clip-path=\"url(#highcharts-8khkydm-29-)\" data-z-index=\"0.1\" height=\"332\" tabindex=\"-1\" transform=\"translate(708,342) rotate(90) scale(-1,1) scale(1 1)\" width=\"564\"><rect aria-label=\"1. praktijkonderwijs, 3,4.\" class=\"highcharts-point highcharts-color-0\" height=\"74\" role=\"img\" tabindex=\"-1\" width=\"16\" x=\"305.5\" y=\"490.5\"></rect><rect aria-label=\"2. vmbo-b, 10,3.\" class=\"highcharts-point highcharts-color-0\" height=\"223\" role=\"img\" tabindex=\"-1\" width=\"16\" x=\"268.5\" y=\"341.5\"></rect><rect aria-label=\"3. vmbo-b / -k, 6,9.\" class=\"highcharts-point highcharts-color-0\" height=\"150\" role=\"img\" tabindex=\"-1\" width=\"16\" x=\"231.5\" y=\"414.5\"></rect><rect aria-label=\"4. vmbo-k, 10,3.\" class=\"highcharts-point highcharts-color-0\" height=\"223\" role=\"img\" tabindex=\"-1\" width=\"16\" x=\"194.5\" y=\"341.5\"></rect><rect aria-label=\"5. vmbo-(g)t, 24,1.\" class=\"highcharts-point highcharts-color-0\" height=\"523\" role=\"img\" tabindex=\"-1\" width=\"16\" x=\"157.5\" y=\"41.5\"></rect><rect aria-label=\"6. vmbo-(g)t / havo, 17,2.\" class=\"highcharts-point highcharts-color-0\" height=\"373\" role=\"img\" tabindex=\"-1\" width=\"16\" x=\"120.5\" y=\"191.5\"></rect><rect aria-label=\"7. havo, 6,9.\" class=\"highcharts-point highcharts-color-0\" height=\"150\" role=\"img\" tabindex=\"-1\" width=\"16\" x=\"83.5\" y=\"414.5\"></rect><rect aria-label=\"8. havo / vwo, 10,3.\" class=\"highcharts-point highcharts-color-0\" height=\"223\" role=\"img\" tabindex=\"-1\" width=\"16\" x=\"46.5\" y=\"341.5\"></rect><rect aria-label=\"9. vwo, 10,3.\" class=\"highcharts-point highcharts-color-0\" height=\"223\" role=\"img\" tabindex=\"-1\" width=\"16\" x=\"9.5\" y=\"341.5\"></rect></g>,\n",
       " <g aria-hidden=\"false\" aria-label=\"deze school, reeks 1 van 2 met 3 staven.\" class=\"highcharts-series highcharts-series-0 highcharts-bar-series highcharts-color-0 highcharts-tracker\" clip-path=\"url(#highcharts-8khkydm-50-)\" data-z-index=\"0.1\" tabindex=\"-1\" transform=\"translate(708,262) rotate(90) scale(-1,1) scale(1 1)\"><rect aria-label=\"1. boven advies, 23,3. deze school.\" class=\"highcharts-point highcharts-color-0\" height=\"196\" role=\"img\" tabindex=\"-1\" width=\"16\" x=\"214.5\" y=\"393.5\"></rect><rect aria-label=\"2. op advies, 70. deze school.\" class=\"highcharts-point highcharts-color-0\" height=\"590\" role=\"img\" tabindex=\"-1\" width=\"16\" x=\"130.5\" y=\"-0.5\"></rect><rect aria-label=\"3. onder advies, 6,7. deze school.\" class=\"highcharts-point highcharts-color-0\" height=\"56\" role=\"img\" tabindex=\"-1\" width=\"16\" x=\"46.5\" y=\"533.5\"></rect></g>]"
      ]
     },
     "execution_count": 38,
     "metadata": {},
     "output_type": "execute_result"
    }
   ],
   "source": [
    "html = driver.page_source\n",
    "soup = BeautifulSoup(html)\n",
    "soup.find_all(attrs={'class': re.compile(r'highcharts-series highcharts-series-0 highcharts-bar-series highcharts-color-0 highcharts-tracker')})"
   ]
  },
  {
   "cell_type": "code",
   "execution_count": 49,
   "metadata": {},
   "outputs": [],
   "source": [
    "def target_scrape(url):\n",
    "\n",
    "    driver = webdriver.Chrome(service=Service(ChromeDriverManager().install()))\n",
    "\n",
    "    try:\n",
    "        driver.get(url)\n",
    "        html = driver.page_source\n",
    "        soup = BeautifulSoup(html)\n",
    "        soup.find_all(attrs={'class': re.compile(r'highcharts-series highcharts-series-0 highcharts-bar-series highcharts-color-0 highcharts-tracker')})\n",
    "\n",
    "        elements = soup.findAll('g', class_ = 'highcharts-label')\n",
    "        target_results = elements[4].text\n",
    "        other_results = elements[5].text\n",
    "\n",
    "        target_dict = {'School Target' : target_results, 'Other_schools_target': other_results}\n",
    "\n",
    "        return target_dict\n",
    "\n",
    "    except Exception as e:\n",
    "        print(f\"An error occurred: {str(e)}\")\n",
    "        return \"Error\"\n"
   ]
  },
  {
   "cell_type": "code",
   "execution_count": 52,
   "metadata": {},
   "outputs": [
    {
     "data": {
      "text/plain": [
       "{'School Target': '73,9%', 'Other_schools_target': '58,4%'}"
      ]
     },
     "execution_count": 52,
     "metadata": {},
     "output_type": "execute_result"
    }
   ],
   "source": [
    "target_one= target_scrape('https://scholenopdekaart.nl/basisscholen/heenvliet/10602/basisschool-de-ravelinde/resultaten/')\n",
    "target_one"
   ]
  }
 ],
 "metadata": {
  "kernelspec": {
   "display_name": "base",
   "language": "python",
   "name": "python3"
  },
  "language_info": {
   "codemirror_mode": {
    "name": "ipython",
    "version": 3
   },
   "file_extension": ".py",
   "mimetype": "text/x-python",
   "name": "python",
   "nbconvert_exporter": "python",
   "pygments_lexer": "ipython3",
   "version": "3.10.9"
  },
  "orig_nbformat": 4
 },
 "nbformat": 4,
 "nbformat_minor": 2
}
